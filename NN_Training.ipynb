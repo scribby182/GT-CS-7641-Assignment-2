{
 "cells": [
  {
   "cell_type": "code",
   "execution_count": 1,
   "metadata": {},
   "outputs": [],
   "source": [
    "%load_ext autoreload\n",
    "%autoreload 2"
   ]
  },
  {
   "cell_type": "code",
   "execution_count": 2,
   "metadata": {},
   "outputs": [],
   "source": [
    "import mlrose\n",
    "import numpy as np\n",
    "from time import perf_counter\n",
    "import copy\n",
    "import itertools\n",
    "from sklearn.model_selection import train_test_split, GridSearchCV, KFold, StratifiedKFold, cross_validate\n",
    "from sklearn.metrics import precision_score, recall_score, f1_score, classification_report\n",
    "from sklearn.neural_network import MLPClassifier\n",
    "from sklearn.preprocessing import StandardScaler\n",
    "\n",
    "from utilities import getFraudData, computeLearningCurve, plotScoreCurve, plotTimeCurve, plotIterationCurve, plotConfusionMatrix, getDrawData, drawIncorrectSketches, heatmap"
   ]
  },
  {
   "cell_type": "code",
   "execution_count": 3,
   "metadata": {},
   "outputs": [],
   "source": [
    "def param_grid_combinations(param_grid):\n",
    "    \"\"\"Returns a list of dicts of all param_grid settings combinations\"\"\"\n",
    "    param_val_tuple_lists = []\n",
    "    for param_name in sorted(param_grid):\n",
    "        param_val_tuple_lists.append([])\n",
    "        values = param_grid[param_name]\n",
    "\n",
    "        # Catch strings which may look like iterables but don't make the cut below...\n",
    "        if isinstance(values, str):\n",
    "            values = [values]\n",
    "\n",
    "        # Does it look like an iterable?  If not, promote\n",
    "        try:\n",
    "            values = values[:]\n",
    "        except TypeError:\n",
    "            values = [values]\n",
    "\n",
    "        # Store as a list of (param_name, param_value) tuples\n",
    "        for value in values:\n",
    "            param_val_tuple_lists[-1].append((param_name, value))\n",
    "\n",
    "    settings_combinations = list(itertools.product(*param_val_tuple_lists))\n",
    "    settings_as_dicts = [dict(settings) for settings in settings_combinations]\n",
    "    return settings_as_dicts"
   ]
  },
  {
   "cell_type": "code",
   "execution_count": 4,
   "metadata": {},
   "outputs": [],
   "source": [
    "# Name of data file\n",
    "datafile = \"./data/creditcard.csv\"\n",
    "\n",
    "# Random seed used for all \"random\" generators\n",
    "randomSeed = 1\n",
    "\n",
    "# Number of parallel jobs used for some sklearn routines (-1 means use all cpus)\n",
    "njobs = -1\n",
    "\n",
    "# Fractional of (y=1) cases held out for testing\n",
    "testSize = 0.5\n",
    "\n",
    "# Integer number of non-fraud cases kept in the training set\n",
    "nonFraudInTraining = 5000\n",
    "\n",
    "# Number of folds for GridSearchCV\n",
    "nfolds = 5\n",
    "\n",
    "# Number of samples (fraudulent, not fraudulent)\n",
    "nSamples = (492, 125000)\n",
    "\n",
    "# Plot min/max extents for all accuracy plots\n",
    "accuracyMin = 0.6\n",
    "accuracyMax = 1.0\n",
    "\n",
    "names = [\"Not Fraud\", \"Fraud\"]\n",
    "\n",
    "# Maximum iterations for iterative classification trainers\n",
    "maxIter = 3000\n",
    "\n",
    "# # Folds (denoted by number of data points used) for learning curve\n",
    "learningCurveFolds = np.concatenate([np.geomspace(31, 316, 4).round(), np.array([500, 1000, 2000, 3000])]).astype('int')\n",
    "# learningCurveFolds = np.array([500, 1000, 2000, 3000]).astype('int')\n",
    "\n",
    "# Fraction of data held out from the training dataset for cross validation during learning curve evaluation\n",
    "lcTestSize = 0.2"
   ]
  },
  {
   "cell_type": "code",
   "execution_count": 5,
   "metadata": {},
   "outputs": [],
   "source": [
    "# Used for plot names\n",
    "est = \"fraud_mlrose\"\n",
    "scoreText = \"F1-Score\""
   ]
  },
  {
   "cell_type": "code",
   "execution_count": 6,
   "metadata": {},
   "outputs": [
    {
     "name": "stdout",
     "output_type": "stream",
     "text": [
      "Importing data with 492 fraudulent and 125000 not fraudulent cases\n",
      "Got data of shape: (125492, 31)\n",
      "Got feature columns ['V1', 'V2', 'V3', 'V4', 'V5', 'V6', 'V7', 'V8', 'V9', 'V10', 'V11', 'V12', 'V13', 'V14', 'V15', 'V16', 'V17', 'V18', 'V19', 'V20', 'V21', 'V22', 'V23', 'V24', 'V25', 'V26', 'V27', 'V28', 'Amount']\n"
     ]
    }
   ],
   "source": [
    "data = getFraudData(datafile, nSamples, randomSeed)\n",
    "print(f\"Got data of shape: {data.shape}\")\n",
    "\n",
    "# Use all features except time (omitting as I don't want to handle anything time-series related)\n",
    "featColNames = [name for name in data.columns if ((name != \"Class\") and (name != \"Time\"))] \n",
    "\n",
    "print(f\"Got feature columns {featColNames}\")"
   ]
  },
  {
   "cell_type": "code",
   "execution_count": 7,
   "metadata": {},
   "outputs": [
    {
     "name": "stdout",
     "output_type": "stream",
     "text": [
      "\n",
      "fraudX.shape = (246, 29)\n",
      "fraudy.shape = (246,)\n",
      "Ratio of y=1 to y=0 for Training data: 1.0 (should be 1)\n",
      "\n",
      "notFraudX.shape = (5000, 29)\n",
      "notFraudy.shape = (5000,)\n",
      "Ratio of y=1 to y=0 for Training data: 0.0 (should be 1)\n",
      "\n",
      "X.shape = (5246, 29)\n",
      "y.shape = (5246,)\n",
      "Ratio of yTest=1 to yTest=0 for Test data: 0.04689287075867327 (should be ~0.05)\n",
      "\n",
      "XTest.shape = (120246, 29)\n",
      "yTest.shape = (120246,)\n",
      "Ratio of yTest=1 to yTest=0 for Test data: 0.0020458060975001246 (should be ~.001)\n"
     ]
    }
   ],
   "source": [
    "# Create X, y, XTest, yTest\n",
    "# Because of the imbalance in data, use half of the fraud cases and only 5000 of the non-fraud cases for training.  Then Test on the rest\n",
    "\n",
    "fraudXFull = data.loc[data.Class == 1, featColNames].values\n",
    "fraudyFull = data.loc[data.Class == 1, 'Class'].values\n",
    "\n",
    "fraudX, fraudXTest, fraudy, fraudyTest = train_test_split(fraudXFull, fraudyFull, \n",
    "                                                      test_size=testSize, random_state=randomSeed)\n",
    "\n",
    "notFraudXFull = data.loc[data.Class == 0, featColNames].values\n",
    "notFraudyFull = data.loc[data.Class == 0, 'Class'].values\n",
    "\n",
    "# Using train_test_split \"backwards\" because I want 5000 examples in my training set and the rest in test\n",
    "notFraudXTest, notFraudX, notFraudyTest, notFraudy = train_test_split(notFraudXFull, notFraudyFull, \n",
    "                                                      test_size=nonFraudInTraining, random_state=randomSeed)\n",
    "\n",
    "print('')\n",
    "print(f'fraudX.shape = {fraudX.shape}')\n",
    "print(f'fraudy.shape = {fraudy.shape}')\n",
    "print(f'Ratio of y=1 to y=0 for Training data: {(fraudy == 1).sum() / float(len(fraudy))} (should be 1)')\n",
    "\n",
    "print('')\n",
    "print(f'notFraudX.shape = {notFraudX.shape}')\n",
    "print(f'notFraudy.shape = {notFraudy.shape}')\n",
    "print(f'Ratio of y=1 to y=0 for Training data: {(notFraudy == 1).sum() / float(len(notFraudy))} (should be 1)')\n",
    "\n",
    "XUnscaled = np.concatenate([fraudX, notFraudX])\n",
    "XTestUnscaled = np.concatenate([fraudXTest, notFraudXTest])\n",
    "\n",
    "# Scale X, XTest for use in learning algorithm \n",
    "scaler = StandardScaler()\n",
    "X = scaler.fit_transform(XUnscaled)\n",
    "XTest = scaler.transform(XTestUnscaled)\n",
    "\n",
    "y = np.concatenate([fraudy, notFraudy])\n",
    "yTest = np.concatenate([fraudyTest, notFraudyTest])\n",
    "\n",
    "print('')\n",
    "print(f'X.shape = {X.shape}')\n",
    "print(f'y.shape = {y.shape}')\n",
    "print(f'Ratio of yTest=1 to yTest=0 for Test data: {(y == 1).sum() / float(len(y))} (should be ~0.05)')\n",
    "\n",
    "print('')\n",
    "print(f'XTest.shape = {XTest.shape}')\n",
    "print(f'yTest.shape = {yTest.shape}')\n",
    "print(f'Ratio of yTest=1 to yTest=0 for Test data: {(yTest == 1).sum() / float(len(yTest))} (should be ~.001)')\n"
   ]
  },
  {
   "cell_type": "code",
   "execution_count": 8,
   "metadata": {},
   "outputs": [],
   "source": [
    "hidden_layer_sizes = (4,)\n",
    "results = {}\n",
    "data = {\n",
    "    'train': {'X': X, 'y': y},\n",
    "    'test': {'X': XTest, 'y': yTest},\n",
    "}\n"
   ]
  },
  {
   "cell_type": "markdown",
   "metadata": {},
   "source": [
    "# Benchmark using MLPClassifier (sklearn)"
   ]
  },
  {
   "cell_type": "code",
   "execution_count": 9,
   "metadata": {},
   "outputs": [
    {
     "name": "stdout",
     "output_type": "stream",
     "text": [
      "fit_time = 1.4831620999999995\n"
     ]
    }
   ],
   "source": [
    "np.random.seed(7)\n",
    "clf = MLPClassifier(hidden_layer_sizes=hidden_layer_sizes, max_iter=1000 )\n",
    "time_start = perf_counter()\n",
    "clf.fit(X, y)\n",
    "fit_time = perf_counter() - time_start\n",
    "print(f'fit_time = {fit_time}')\n"
   ]
  },
  {
   "cell_type": "code",
   "execution_count": 10,
   "metadata": {},
   "outputs": [
    {
     "name": "stdout",
     "output_type": "stream",
     "text": [
      "case: train, f1=0.9424307036247334\n",
      "case: test, f1=0.6700680272108844\n"
     ]
    },
    {
     "data": {
      "image/png": "[encoded data removed]",
      "text/plain": [
       "<Figure size 432x288 with 1 Axes>"
      ]
     },
     "metadata": {
      "needs_background": "light"
     },
     "output_type": "display_data"
    },
    {
     "data": {
      "image/png": "[encoded data removed]",
      "text/plain": [
       "<Figure size 432x288 with 1 Axes>"
      ]
     },
     "metadata": {
      "needs_background": "light"
     },
     "output_type": "display_data"
    }
   ],
   "source": [
    "thisResult = {'fit_time': fit_time}\n",
    "for case in data:\n",
    "    thisResult[case] = {}\n",
    "    thisResult[case]['yPred'] = clf.predict(data[case]['X'])\n",
    "    thisResult[case]['f1'] = f1_score(data[case]['y'], thisResult[case]['yPred'])\n",
    "    thisResult[case]['cr'] = classification_report(data[case]['y'], thisResult[case]['yPred'], target_names=names)\n",
    "    print(f'case: {case}, f1={thisResult[case][\"f1\"]}')\n",
    "    thisResult[case]['cm'] = plotConfusionMatrix(data[case]['y'], thisResult[case]['yPred'], names, savefig=f'NN_adam_confusion_{case}.png')\n",
    "results['sklearn'] = thisResult"
   ]
  },
  {
   "cell_type": "markdown",
   "metadata": {},
   "source": [
    "# Using Random Hill Climbing"
   ]
  },
  {
   "cell_type": "code",
   "execution_count": 11,
   "metadata": {},
   "outputs": [
    {
     "name": "stdout",
     "output_type": "stream",
     "text": [
      "fit_time = 36.4082387\n"
     ]
    }
   ],
   "source": [
    "np.random.seed(7)\n",
    "\n",
    "clf = mlrose.NeuralNetwork(hidden_nodes=[4], algorithm='random_hill_climb', restarts=5, max_attempts=1000, max_iters=1000)\n",
    "time_start = perf_counter()\n",
    "clf.fit(X, y)\n",
    "fit_time = perf_counter() - time_start\n",
    "print(f'fit_time = {fit_time}')"
   ]
  },
  {
   "cell_type": "code",
   "execution_count": 12,
   "metadata": {},
   "outputs": [
    {
     "name": "stdout",
     "output_type": "stream",
     "text": [
      "case: train, f1=0.9173913043478261\n",
      "case: test, f1=0.7167630057803469\n",
      "Fitness function evaluations = 8833\n"
     ]
    },
    {
     "data": {
      "image/png": "[encoded data removed]",
      "text/plain": [
       "<Figure size 432x288 with 1 Axes>"
      ]
     },
     "metadata": {
      "needs_background": "light"
     },
     "output_type": "display_data"
    },
    {
     "data": {
      "image/png": "[encoded data removed]",
      "text/plain": [
       "<Figure size 432x288 with 1 Axes>"
      ]
     },
     "metadata": {
      "needs_background": "light"
     },
     "output_type": "display_data"
    }
   ],
   "source": [
    "thisResult = {'fit_time': fit_time}\n",
    "thisResult['fit_statistics'] = clf.fit_statistics\n",
    "for case in data:\n",
    "    thisResult[case] = {}\n",
    "    thisResult[case]['yPred'] = clf.predict(data[case]['X'])\n",
    "    thisResult[case]['f1'] = f1_score(data[case]['y'], thisResult[case]['yPred'])\n",
    "    thisResult[case]['cr'] = classification_report(data[case]['y'], thisResult[case]['yPred'], target_names=names)\n",
    "    print(f'case: {case}, f1={thisResult[case][\"f1\"]}')\n",
    "    thisResult[case]['cm'] = plotConfusionMatrix(data[case]['y'], thisResult[case]['yPred'], names, savefig=f'NN_rhc_confusion_{case}.png')\n",
    "print(f'Fitness function evaluations = {thisResult[\"fit_statistics\"][\"fitness_evals\"]}')\n",
    "results['Random Hill Climb'] = thisResult\n"
   ]
  },
  {
   "cell_type": "code",
   "execution_count": 13,
   "metadata": {},
   "outputs": [
    {
     "data": {
      "text/plain": [
       "{'fitness_history': array([0.07019939, 0.12904362, 0.17659443, 0.09268765, 0.18449949,\n",
       "        0.11788437]),\n",
       " 'state_history': array([[-3.47383421e-01,  5.59837584e-01,  5.76818463e-01,\n",
       "          4.69303557e-02,  3.55979024e-01, -2.30082592e-02,\n",
       "         -4.97759073e-01, -3.55897733e-01,  3.68779602e-02,\n",
       "         -2.34998349e-04,  6.58459992e-01,  1.07478072e-01,\n",
       "         -3.38117734e-01, -7.68127306e-01, -7.23708801e-01,\n",
       "          1.01918706e+00, -5.73229293e-01, -9.57520764e-02,\n",
       "          5.62412039e-01, -5.50201545e-01,  7.01097835e-01,\n",
       "          9.00259001e-01, -3.39394242e-01, -2.03020162e-01,\n",
       "          1.21825675e+00, -9.33661108e-01,  6.46825161e-01,\n",
       "         -9.91802818e-02,  5.38026482e-01,  1.35505719e-01,\n",
       "         -4.90301819e-01, -3.18468222e-01,  1.44769379e-01,\n",
       "         -4.51976903e-02, -1.68219228e-01,  2.75835989e-01,\n",
       "          8.37295013e-01, -3.72010646e-01,  2.45250665e-01,\n",
       "         -1.14790190e+00, -5.94314135e-01, -3.94043268e-01,\n",
       "         -8.52010744e-02,  3.40702166e-01,  3.18185956e-01,\n",
       "          5.38648245e-01,  5.25983658e-01,  1.12846538e-01,\n",
       "         -5.39096762e-01,  5.82237746e-01, -5.52519127e-02,\n",
       "         -1.47092855e-01,  6.68759737e-01,  3.45812402e-01,\n",
       "          1.29771957e-01, -1.59714624e+00, -8.15475308e-01,\n",
       "          4.18788787e-01,  5.48691194e-01,  1.92320927e-01,\n",
       "          1.01093665e+00,  5.65827709e-01, -5.93742619e-01,\n",
       "         -5.82294630e-01,  3.85189375e-01, -2.29759185e-01,\n",
       "          1.62994200e+00,  2.90096448e-01,  5.96801762e-01,\n",
       "         -6.55352007e-01,  6.82953430e-01, -3.37778715e-01,\n",
       "         -8.82532685e-01,  1.25992788e-01,  7.83694401e-01,\n",
       "          3.71650457e-01, -9.26247762e-01,  8.70730594e-02,\n",
       "         -1.51147661e-01, -5.99162191e-01, -3.68997199e-01,\n",
       "         -2.70196455e-01,  9.62413150e-02,  1.49800752e-01,\n",
       "          8.92781402e-01,  1.44780256e-01, -2.78739408e-01,\n",
       "          1.56427203e-01,  5.74577904e-01, -5.01624603e-02,\n",
       "          6.00958098e-01,  1.37822271e+00, -4.18688381e-01,\n",
       "          7.51343450e-01, -1.46873855e-01, -4.48471001e-01,\n",
       "          1.19352191e+00,  6.34484465e-01, -8.05704856e-01,\n",
       "          4.17496518e-01, -9.61495860e-01, -5.85858743e-01,\n",
       "          1.02565910e+00,  2.55409666e-01,  9.97088751e-02,\n",
       "          5.56322566e-01,  3.42455217e-01,  6.21030240e-01,\n",
       "         -1.28571345e+00,  1.40513667e-01,  2.26272436e-01,\n",
       "         -7.89000994e-01, -1.71157358e-02,  2.15541503e-01,\n",
       "          3.56906390e-01,  7.83618536e-01, -2.43704292e-01,\n",
       "         -6.39138651e-01,  9.18316794e-01, -8.35052022e-01,\n",
       "         -9.51842726e-01, -4.50274825e-01, -1.56095255e+00,\n",
       "          5.64460303e-01],\n",
       "        [-2.47383421e-01,  7.59837584e-01, -2.31815371e-02,\n",
       "         -2.53069644e-01,  7.55979024e-01, -1.23008259e-01,\n",
       "         -3.97759073e-01, -4.55897733e-01,  1.36877960e-01,\n",
       "          1.99765002e-01,  1.55845999e+00,  5.07478072e-01,\n",
       "         -6.38117734e-01, -1.46812731e+00, -1.02370880e+00,\n",
       "          8.19187055e-01, -1.73229293e-01,  4.04247924e-01,\n",
       "          8.62412039e-01, -4.50201545e-01,  6.01097835e-01,\n",
       "          1.20025900e+00, -6.39394242e-01, -1.03020162e-01,\n",
       "          1.41825675e+00, -2.33661108e-01,  2.46825161e-01,\n",
       "          2.00819718e-01,  4.38026482e-01, -3.64494281e-01,\n",
       "         -6.90301819e-01, -1.18468222e-01,  1.44769379e-01,\n",
       "          5.48023097e-02, -6.82192284e-02,  3.75835989e-01,\n",
       "          1.13729501e+00, -7.20106456e-02,  4.45250665e-01,\n",
       "         -8.47901903e-01, -3.94314135e-01, -6.94043268e-01,\n",
       "          1.14798926e-01,  6.40702166e-01,  5.18185956e-01,\n",
       "          9.38648245e-01,  2.25983658e-01,  4.12846538e-01,\n",
       "         -1.03909676e+00,  6.82237746e-01,  2.44748087e-01,\n",
       "         -4.70928546e-02,  9.68759737e-01,  7.45812402e-01,\n",
       "          2.97719569e-02, -1.69714624e+00, -1.11547531e+00,\n",
       "          8.18788787e-01,  3.48691194e-01,  1.92320927e-01,\n",
       "          1.21093665e+00,  5.65827709e-01, -6.93742619e-01,\n",
       "         -5.82294630e-01,  5.85189375e-01, -3.29759185e-01,\n",
       "          1.32994200e+00,  4.90096448e-01,  6.96801762e-01,\n",
       "         -2.55352007e-01,  5.82953430e-01, -3.37778715e-01,\n",
       "         -5.82532685e-01, -1.74007212e-01,  5.83694401e-01,\n",
       "          3.71650457e-01, -8.26247762e-01, -7.12926941e-01,\n",
       "         -2.51147661e-01, -6.99162191e-01, -4.68997199e-01,\n",
       "         -7.01964549e-02, -3.03758685e-01,  1.49800752e-01,\n",
       "          1.09278140e+00, -5.52197440e-02, -8.78739408e-01,\n",
       "          3.56427203e-01,  6.74577904e-01, -5.01624603e-02,\n",
       "          6.00958098e-01,  1.07822271e+00, -1.31868838e+00,\n",
       "          9.51343450e-01,  5.31261449e-02, -1.48471001e-01,\n",
       "          8.93521914e-01,  6.34484465e-01, -9.05704856e-01,\n",
       "          1.74965179e-02, -1.06149586e+00, -2.85858743e-01,\n",
       "          1.12565910e+00,  5.54096661e-02, -2.91124913e-04,\n",
       "          9.56322566e-01,  5.42455217e-01,  8.21030240e-01,\n",
       "         -1.38571345e+00,  5.40513667e-01,  3.26272436e-01,\n",
       "         -2.89000994e-01, -1.17115736e-01, -2.84458497e-01,\n",
       "          7.56906390e-01,  4.83618536e-01, -4.43704292e-01,\n",
       "         -3.39138651e-01,  6.18316794e-01, -1.03505202e+00,\n",
       "         -7.51842726e-01, -2.50274825e-01, -8.60952553e-01,\n",
       "          3.64460303e-01],\n",
       "        [-4.47383421e-01,  3.59837584e-01,  1.76818463e-01,\n",
       "         -5.30696443e-02,  6.55979024e-01,  2.76991741e-01,\n",
       "         -5.97759073e-01, -1.55897733e-01,  1.36877960e-01,\n",
       "         -3.00234998e-01,  4.58459992e-01,  1.07478072e-01,\n",
       "         -1.03811773e+00, -3.68127306e-01, -1.02370880e+00,\n",
       "          7.19187055e-01, -2.73229293e-01, -7.95752076e-01,\n",
       "          1.16241204e+00, -6.50201545e-01,  5.01097835e-01,\n",
       "          6.00259001e-01, -2.39394242e-01, -1.03020162e-01,\n",
       "          9.18256750e-01, -1.23366111e+00,  5.46825161e-01,\n",
       "          2.00819718e-01,  6.38026482e-01, -2.64494281e-01,\n",
       "         -9.90301819e-01, -1.18468222e-01,  4.47693788e-02,\n",
       "         -3.45197690e-01,  2.31780772e-01,  7.58359886e-02,\n",
       "          8.37295013e-01, -7.72010646e-01,  1.45250665e-01,\n",
       "         -6.47901903e-01, -4.94314135e-01,  1.05956732e-01,\n",
       "         -3.85201074e-01, -1.59297834e-01,  5.18185956e-01,\n",
       "         -6.13517550e-02,  2.25983658e-01,  5.12846538e-01,\n",
       "         -5.39096762e-01,  3.82237746e-01,  1.44748087e-01,\n",
       "         -4.70928546e-02,  8.68759737e-01, -5.54187598e-01,\n",
       "          2.29771957e-01, -1.29714624e+00, -1.11547531e+00,\n",
       "          1.18788787e-01,  4.48691194e-01,  2.92320927e-01,\n",
       "          1.11093665e+00,  6.58277088e-02, -5.93742619e-01,\n",
       "         -6.82294630e-01,  7.85189375e-01, -8.29759185e-01,\n",
       "          1.32994200e+00,  1.90096448e-01,  7.96801762e-01,\n",
       "         -2.55352007e-01,  4.82953430e-01, -3.37778715e-01,\n",
       "         -7.82532685e-01,  1.25992788e-01,  9.83694401e-01,\n",
       "          7.16504574e-02, -1.62624776e+00, -2.12926941e-01,\n",
       "         -3.51147661e-01, -5.99162191e-01, -3.68997199e-01,\n",
       "         -3.70196455e-01, -4.03758685e-01,  2.49800752e-01,\n",
       "          1.49278140e+00,  1.44780256e-01, -6.78739408e-01,\n",
       "          5.64272031e-02,  3.74577904e-01,  2.49837540e-01,\n",
       "          7.00958098e-01,  8.78222707e-01, -1.01868838e+00,\n",
       "          3.51343450e-01, -1.46873855e-01, -1.48471001e-01,\n",
       "          8.93521914e-01,  3.34484465e-01, -1.10570486e+00,\n",
       "         -8.25034821e-02, -1.26149586e+00,  3.14141257e-01,\n",
       "          1.22565910e+00,  2.55409666e-01,  9.97088751e-02,\n",
       "         -1.43677434e-01,  5.42455217e-01,  5.21030240e-01,\n",
       "         -1.18571345e+00,  4.05136673e-02,  1.26272436e-01,\n",
       "         -2.89000994e-01, -2.17115736e-01,  3.15541503e-01,\n",
       "          9.56906390e-01,  5.83618536e-01, -2.43704292e-01,\n",
       "         -1.23913865e+00,  5.18316794e-01, -1.43505202e+00,\n",
       "         -6.51842726e-01,  4.97251752e-02, -7.60952553e-01,\n",
       "          4.64460303e-01],\n",
       "        [-3.47383421e-01,  9.59837584e-01,  7.68184629e-02,\n",
       "         -2.53069644e-01,  3.55979024e-01, -1.23008259e-01,\n",
       "         -6.97759073e-01, -6.55897733e-01,  3.68779602e-02,\n",
       "          1.99765002e-01,  9.58459992e-01,  5.07478072e-01,\n",
       "         -1.38117734e-01, -1.06812731e+00, -9.23708801e-01,\n",
       "          1.21918706e+00, -1.27322929e+00,  1.04247924e-01,\n",
       "          1.06241204e+00, -1.05020154e+00,  5.01097835e-01,\n",
       "          8.00259001e-01, -4.39394242e-01,  9.69798385e-02,\n",
       "          1.21825675e+00, -4.33661108e-01,  5.46825161e-01,\n",
       "          3.00819718e-01,  5.38026482e-01, -4.64494281e-01,\n",
       "         -6.90301819e-01, -3.18468222e-01,  3.44769379e-01,\n",
       "          1.54802310e-01,  3.31780772e-01,  4.75835989e-01,\n",
       "          1.03729501e+00, -7.20106456e-02,  7.45250665e-01,\n",
       "         -1.34790190e+00, -5.94314135e-01, -3.94043268e-01,\n",
       "          1.47989256e-02,  4.07021660e-02,  4.18185956e-01,\n",
       "          3.38648245e-01,  4.25983658e-01,  1.12846538e-01,\n",
       "         -1.23909676e+00,  8.82237746e-01,  4.44748087e-01,\n",
       "         -1.47092855e-01,  4.68759737e-01,  4.45812402e-01,\n",
       "          2.97719569e-02, -1.59714624e+00, -9.15475308e-01,\n",
       "          7.18788787e-01,  6.48691194e-01,  2.92320927e-01,\n",
       "          1.31093665e+00,  3.65827709e-01, -5.93742619e-01,\n",
       "         -3.82294630e-01,  6.85189375e-01, -4.29759185e-01,\n",
       "          1.22994200e+00,  4.90096448e-01,  7.96801762e-01,\n",
       "         -5.53520074e-02,  5.82953430e-01, -4.37778715e-01,\n",
       "         -4.82532685e-01, -2.74007212e-01,  6.83694401e-01,\n",
       "          3.71650457e-01, -1.32624776e+00, -6.12926941e-01,\n",
       "          4.88523393e-02, -7.99162191e-01,  3.10028009e-02,\n",
       "          4.29803545e-01, -6.03758685e-01,  3.49800752e-01,\n",
       "          7.92781402e-01,  4.44780256e-01, -2.78739408e-01,\n",
       "          4.56427203e-01,  5.74577904e-01,  3.49837540e-01,\n",
       "          4.00958098e-01,  1.27822271e+00, -1.21868838e+00,\n",
       "          1.35134345e+00, -2.46873855e-01, -4.48471001e-01,\n",
       "          8.93521914e-01,  6.34484465e-01, -1.00570486e+00,\n",
       "          1.17496518e-01, -1.66149586e+00, -4.85858743e-01,\n",
       "          1.32565910e+00, -1.44590334e-01,  2.99708875e-01,\n",
       "          1.56322566e-01,  2.42455217e-01,  1.12103024e+00,\n",
       "         -1.08571345e+00, -5.94863327e-02,  2.26272436e-01,\n",
       "         -8.89000994e-01, -2.17115736e-01, -8.44584971e-02,\n",
       "          4.56906390e-01,  4.83618536e-01, -5.43704292e-01,\n",
       "         -3.39138651e-01,  9.18316794e-01, -1.43505202e+00,\n",
       "         -8.51842726e-01, -4.50274825e-01, -8.60952553e-01,\n",
       "          3.64460303e-01],\n",
       "        [-5.47383421e-01,  8.59837584e-01,  1.76818463e-01,\n",
       "          1.46930356e-01,  2.55979024e-01,  7.69917408e-02,\n",
       "         -6.97759073e-01, -2.55897733e-01,  1.36877960e-01,\n",
       "          9.97650017e-02,  6.58459992e-01,  5.07478072e-01,\n",
       "         -4.38117734e-01, -8.68127306e-01, -1.02370880e+00,\n",
       "          1.01918706e+00, -1.73229293e-01, -2.95752076e-01,\n",
       "          1.56241204e+00, -4.50201545e-01,  1.00109783e+00,\n",
       "          6.00259001e-01, -5.39394242e-01, -2.03020162e-01,\n",
       "          1.41825675e+00, -7.33661108e-01,  4.46825161e-01,\n",
       "          1.00819718e-01,  7.38026482e-01, -4.64494281e-01,\n",
       "         -6.90301819e-01,  3.81531778e-01,  4.47693788e-02,\n",
       "         -4.51976903e-02,  1.31780772e-01,  4.75835989e-01,\n",
       "          7.37295013e-01,  1.27989354e-01,  8.45250665e-01,\n",
       "         -8.47901903e-01, -6.94314135e-01, -3.94043268e-01,\n",
       "          1.47989256e-02,  4.07021660e-02,  3.18185956e-01,\n",
       "          3.38648245e-01,  1.25983658e-01,  4.12846538e-01,\n",
       "         -1.03909676e+00,  3.82237746e-01,  1.44748087e-01,\n",
       "         -4.70928546e-02,  6.68759737e-01,  3.45812402e-01,\n",
       "          1.29771957e-01, -1.29714624e+00, -1.41547531e+00,\n",
       "          5.18788787e-01,  1.14869119e+00,  2.92320927e-01,\n",
       "          1.61093665e+00,  8.65827709e-01, -5.93742619e-01,\n",
       "         -7.82294630e-01,  4.85189375e-01, -5.29759185e-01,\n",
       "          1.02994200e+00,  4.90096448e-01,  1.29680176e+00,\n",
       "         -2.55352007e-01,  4.82953430e-01, -6.37778715e-01,\n",
       "         -5.82532685e-01,  3.25992788e-01,  6.83694401e-01,\n",
       "          4.71650457e-01, -1.02624776e+00, -5.12926941e-01,\n",
       "          1.48852339e-01, -3.99162191e-01, -1.68997199e-01,\n",
       "         -7.01964549e-02, -4.03758685e-01,  5.49800752e-01,\n",
       "          7.92781402e-01,  1.44780256e-01, -4.78739408e-01,\n",
       "          5.64272031e-02,  4.74577904e-01,  3.49837540e-01,\n",
       "          7.00958098e-01,  9.78222707e-01, -1.11868838e+00,\n",
       "          7.51343450e-01, -1.46873855e-01, -4.48471001e-01,\n",
       "          5.93521914e-01,  7.34484465e-01, -1.20570486e+00,\n",
       "          1.17496518e-01, -1.06149586e+00, -2.85858743e-01,\n",
       "          9.25659100e-01,  5.54096661e-02,  9.97088751e-02,\n",
       "          6.56322566e-01,  3.42455217e-01,  2.21030240e-01,\n",
       "         -9.85713449e-01,  1.40513667e-01,  2.26272436e-01,\n",
       "         -2.89000994e-01, -1.71157358e-02,  2.15541503e-01,\n",
       "          4.56906390e-01,  3.83618536e-01, -3.43704292e-01,\n",
       "         -5.39138651e-01,  4.18316794e-01, -1.23505202e+00,\n",
       "         -6.51842726e-01, -2.50274825e-01, -6.60952553e-01,\n",
       "          2.64460303e-01],\n",
       "        [-2.47383421e-01,  4.59837584e-01,  4.76818463e-01,\n",
       "         -5.30696443e-02,  5.55979024e-01,  7.69917408e-02,\n",
       "         -1.97759073e-01, -4.55897733e-01,  1.36877960e-01,\n",
       "         -4.00234998e-01,  7.58459992e-01, -1.92521928e-01,\n",
       "         -2.38117734e-01, -1.06812731e+00, -1.02370880e+00,\n",
       "          9.19187055e-01, -7.73229293e-01, -3.95752076e-01,\n",
       "          9.62412039e-01, -5.50201545e-01,  3.01097835e-01,\n",
       "          1.00025900e+00, -1.39394242e-01, -2.03020162e-01,\n",
       "          1.31825675e+00, -7.33661108e-01,  1.46825161e-01,\n",
       "         -9.91802818e-02,  7.38026482e-01,  1.35505719e-01,\n",
       "         -5.90301819e-01,  8.15317782e-02,  4.47693788e-02,\n",
       "         -4.51976903e-02,  2.31780772e-01,  2.75835989e-01,\n",
       "          1.43729501e+00, -2.72010646e-01,  2.45250665e-01,\n",
       "         -7.47901903e-01, -4.94314135e-01, -4.94043268e-01,\n",
       "         -8.52010744e-02,  4.40702166e-01,  3.18185956e-01,\n",
       "          3.38648245e-01,  2.25983658e-01,  3.12846538e-01,\n",
       "         -1.13909676e+00,  2.82237746e-01,  6.44748087e-01,\n",
       "         -3.47092855e-01,  5.68759737e-01, -5.41875979e-02,\n",
       "          1.29771957e-01, -1.59714624e+00, -9.15475308e-01,\n",
       "          2.18788787e-01,  1.48691194e-01, -7.67907297e-03,\n",
       "          1.21093665e+00,  1.65827709e-01, -4.93742619e-01,\n",
       "         -4.82294630e-01,  6.85189375e-01, -5.29759185e-01,\n",
       "          1.42994200e+00,  1.90096448e-01,  8.96801762e-01,\n",
       "         -3.55352007e-01,  4.82953430e-01, -3.37778715e-01,\n",
       "         -6.82532685e-01, -7.40072117e-02,  5.83694401e-01,\n",
       "          3.71650457e-01, -1.02624776e+00, -2.12926941e-01,\n",
       "          1.48852339e-01, -3.99162191e-01, -3.68997199e-01,\n",
       "         -2.70196455e-01, -4.03758685e-01,  4.49800752e-01,\n",
       "          8.92781402e-01, -2.55219744e-01, -2.78739408e-01,\n",
       "          4.56427203e-01,  3.74577904e-01,  5.49837540e-01,\n",
       "          2.00958098e-01,  9.78222707e-01, -7.18688381e-01,\n",
       "          6.51343450e-01, -4.68738551e-02, -3.48471001e-01,\n",
       "          5.93521914e-01,  6.34484465e-01, -1.00570486e+00,\n",
       "         -8.25034821e-02, -1.46149586e+00, -8.58587433e-02,\n",
       "          9.25659100e-01, -4.45903339e-02,  3.99708875e-01,\n",
       "          4.56322566e-01,  1.42455217e-01,  3.21030240e-01,\n",
       "         -1.28571345e+00,  3.40513667e-01,  1.26272436e-01,\n",
       "         -6.89000994e-01, -3.17115736e-01,  2.15541503e-01,\n",
       "          6.56906390e-01,  7.83618536e-01, -2.43704292e-01,\n",
       "         -8.39138651e-01,  6.18316794e-01, -1.23505202e+00,\n",
       "         -8.51842726e-01, -1.50274825e-01, -1.16095255e+00,\n",
       "          3.64460303e-01]]),\n",
       " 'iters_history': array([1000, 1000, 1000, 1000, 1000, 1000]),\n",
       " 'time_history': array([6.6804498, 6.436847 , 5.9560687, 5.6011011, 5.6426973, 6.0890524]),\n",
       " 'fitness_evals_history': [array([   1,    3,    5, ..., 1491, 1493, 1493]),\n",
       "  array([   1,    2,    4, ..., 1482, 1484, 1484]),\n",
       "  array([   1,    3,    5, ..., 1468, 1469, 1469]),\n",
       "  array([   1,    2,    4, ..., 1476, 1477, 1477]),\n",
       "  array([   1,    2,    4, ..., 1447, 1448, 1448]),\n",
       "  array([   1,    2,    4, ..., 1461, 1462, 1462])],\n",
       " 'fitness_by_iteration': [array([0.62508879, 0.62237056, 0.62190514, ..., 0.07057803, 0.07057803,\n",
       "         0.07019939]),\n",
       "  array([0.62508879, 0.62508879, 0.62360607, ..., 0.12937174, 0.12937174,\n",
       "         0.12904362]),\n",
       "  array([0.62508879, 0.62491784, 0.62119804, ..., 0.17715981, 0.17659443,\n",
       "         0.17659443]),\n",
       "  array([0.62508879, 0.62508879, 0.62195455, ..., 0.09268765, 0.09268765,\n",
       "         0.09268765]),\n",
       "  array([0.62508879, 0.62508879, 0.62493795, ..., 0.18449949, 0.18449949,\n",
       "         0.18449949]),\n",
       "  array([0.62508879, 0.62508879, 0.5940047 , ..., 0.11788437, 0.11788437,\n",
       "         0.11788437])],\n",
       " 'iters': 6000,\n",
       " 'time': 36.4062163,\n",
       " 'fitness_evals': 8833,\n",
       " 'best_state': array([-3.47383421e-01,  5.59837584e-01,  5.76818463e-01,  4.69303557e-02,\n",
       "         3.55979024e-01, -2.30082592e-02, -4.97759073e-01, -3.55897733e-01,\n",
       "         3.68779602e-02, -2.34998349e-04,  6.58459992e-01,  1.07478072e-01,\n",
       "        -3.38117734e-01, -7.68127306e-01, -7.23708801e-01,  1.01918706e+00,\n",
       "        -5.73229293e-01, -9.57520764e-02,  5.62412039e-01, -5.50201545e-01,\n",
       "         7.01097835e-01,  9.00259001e-01, -3.39394242e-01, -2.03020162e-01,\n",
       "         1.21825675e+00, -9.33661108e-01,  6.46825161e-01, -9.91802818e-02,\n",
       "         5.38026482e-01,  1.35505719e-01, -4.90301819e-01, -3.18468222e-01,\n",
       "         1.44769379e-01, -4.51976903e-02, -1.68219228e-01,  2.75835989e-01,\n",
       "         8.37295013e-01, -3.72010646e-01,  2.45250665e-01, -1.14790190e+00,\n",
       "        -5.94314135e-01, -3.94043268e-01, -8.52010744e-02,  3.40702166e-01,\n",
       "         3.18185956e-01,  5.38648245e-01,  5.25983658e-01,  1.12846538e-01,\n",
       "        -5.39096762e-01,  5.82237746e-01, -5.52519127e-02, -1.47092855e-01,\n",
       "         6.68759737e-01,  3.45812402e-01,  1.29771957e-01, -1.59714624e+00,\n",
       "        -8.15475308e-01,  4.18788787e-01,  5.48691194e-01,  1.92320927e-01,\n",
       "         1.01093665e+00,  5.65827709e-01, -5.93742619e-01, -5.82294630e-01,\n",
       "         3.85189375e-01, -2.29759185e-01,  1.62994200e+00,  2.90096448e-01,\n",
       "         5.96801762e-01, -6.55352007e-01,  6.82953430e-01, -3.37778715e-01,\n",
       "        -8.82532685e-01,  1.25992788e-01,  7.83694401e-01,  3.71650457e-01,\n",
       "        -9.26247762e-01,  8.70730594e-02, -1.51147661e-01, -5.99162191e-01,\n",
       "        -3.68997199e-01, -2.70196455e-01,  9.62413150e-02,  1.49800752e-01,\n",
       "         8.92781402e-01,  1.44780256e-01, -2.78739408e-01,  1.56427203e-01,\n",
       "         5.74577904e-01, -5.01624603e-02,  6.00958098e-01,  1.37822271e+00,\n",
       "        -4.18688381e-01,  7.51343450e-01, -1.46873855e-01, -4.48471001e-01,\n",
       "         1.19352191e+00,  6.34484465e-01, -8.05704856e-01,  4.17496518e-01,\n",
       "        -9.61495860e-01, -5.85858743e-01,  1.02565910e+00,  2.55409666e-01,\n",
       "         9.97088751e-02,  5.56322566e-01,  3.42455217e-01,  6.21030240e-01,\n",
       "        -1.28571345e+00,  1.40513667e-01,  2.26272436e-01, -7.89000994e-01,\n",
       "        -1.71157358e-02,  2.15541503e-01,  3.56906390e-01,  7.83618536e-01,\n",
       "        -2.43704292e-01, -6.39138651e-01,  9.18316794e-01, -8.35052022e-01,\n",
       "        -9.51842726e-01, -4.50274825e-01, -1.56095255e+00,  5.64460303e-01]),\n",
       " 'best_fitness': 0.07019938558070798}"
      ]
     },
     "execution_count": 13,
     "metadata": {},
     "output_type": "execute_result"
    }
   ],
   "source": [
    "results['Random Hill Climb']['fit_statistics']"
   ]
  },
  {
   "cell_type": "markdown",
   "metadata": {},
   "source": [
    "# Using Simulated Annealing"
   ]
  },
  {
   "cell_type": "code",
   "execution_count": null,
   "metadata": {},
   "outputs": [
    {
     "name": "stdout",
     "output_type": "stream",
     "text": [
      "Search ended with attempts>max_attempts (5000>5000)\n",
      "fit_time = 39.1929069\n"
     ]
    }
   ],
   "source": [
    "np.random.seed(7)\n",
    "clf = mlrose.NeuralNetwork(hidden_nodes=[4], algorithm='simulated_annealing', max_attempts=20, max_iters=5000)\n",
    "time_start = perf_counter()\n",
    "clf.fit(X, y)\n",
    "fit_time = perf_counter() - time_start\n",
    "print(f'fit_time = {fit_time}')"
   ]
  },
  {
   "cell_type": "code",
   "execution_count": null,
   "metadata": {},
   "outputs": [
    {
     "name": "stdout",
     "output_type": "stream",
     "text": [
      "case: train, f1=0.9154013015184381\n",
      "case: test, f1=0.6913123844731978\n",
      "Fitness function evaluations = 9364\n"
     ]
    },
    {
     "data": {
      "image/png": "[encoded data removed]",
      "text/plain": [
       "<Figure size 432x288 with 1 Axes>"
      ]
     },
     "metadata": {
      "needs_background": "light"
     },
     "output_type": "display_data"
    },
    {
     "data": {
      "image/png": "[encoded data removed]",
      "text/plain": [
       "<Figure size 432x288 with 1 Axes>"
      ]
     },
     "metadata": {
      "needs_background": "light"
     },
     "output_type": "display_data"
    }
   ],
   "source": [
    "thisResult = {}\n",
    "thisResult['fit_time'] = fit_time\n",
    "thisResult['clf'] = fit_time\n",
    "thisResult['fit_statistics'] = clf.fit_statistics\n",
    "for case in data:\n",
    "    thisResult[case] = {}\n",
    "    thisResult[case]['yPred'] = clf.predict(data[case]['X'])\n",
    "    thisResult[case]['f1'] = f1_score(data[case]['y'], thisResult[case]['yPred'])\n",
    "    thisResult[case]['cr'] = classification_report(data[case]['y'], thisResult[case]['yPred'], target_names=names)\n",
    "    print(f'case: {case}, f1={thisResult[case][\"f1\"]}')\n",
    "    thisResult[case]['cm'] = plotConfusionMatrix(data[case]['y'], thisResult[case]['yPred'], names, savefig=f'NN_sa_confusion_{case}.png')\n",
    "print(f'Fitness function evaluations = {thisResult[\"fit_statistics\"][\"fitness_evals\"]}')\n",
    "results['Simulated Annealing'] = thisResult"
   ]
  },
  {
   "cell_type": "code",
   "execution_count": null,
   "metadata": {
    "scrolled": true
   },
   "outputs": [
    {
     "data": {
      "text/plain": [
       "{'iters': 5000,\n",
       " 'time': 39.184094699999996,\n",
       " 'fitness_evals': 9364,\n",
       " 'best_state': array([-0.74738342,  1.55983758,  0.67681846,  0.34693036,  1.15597902,\n",
       "         0.97699174, -0.29775907, -0.85589773,  0.23687796,  0.699765  ,\n",
       "         0.75845999,  0.60747807,  0.56188227, -0.46812731, -1.4237088 ,\n",
       "         1.01918706, -0.27322929, -0.79575208,  0.06241204, -0.65020154,\n",
       "         0.50109783,  0.800259  , -0.33939424,  0.79697984,  0.61825675,\n",
       "        -0.13366111,  0.14682516, -0.59918028,  0.23802648, -0.16449428,\n",
       "        -0.29030182, -0.81846822,  0.24476938, -1.04519769,  0.83178077,\n",
       "         0.37583599,  0.63729501, -0.47201065,  0.34525067, -0.6479019 ,\n",
       "         0.00568587,  0.30595673, -0.18520107,  1.14070217,  0.41818596,\n",
       "         0.93864825,  0.12598366, -0.68715346, -0.53909676, -0.81776225,\n",
       "         1.04474809, -0.14709285,  1.66875974,  1.5458124 ,  0.62977196,\n",
       "        -2.09714624, -0.61547531,  0.51878879,  0.94869119,  0.59232093,\n",
       "         1.81093665,  1.36582771, -1.09374262, -1.08229463,  0.18518937,\n",
       "         0.37024081,  1.329942  , -0.10990355,  0.39680176, -0.45535201,\n",
       "         0.18295343, -0.53777872,  0.41746731,  1.12599279, -0.2163056 ,\n",
       "         0.47165046, -0.52624776, -2.11292694, -0.45114766, -0.59916219,\n",
       "        -0.0689972 ,  0.12980355,  0.09624132,  0.74980075,  0.9927814 ,\n",
       "        -0.35521974, -0.27873941,  0.5564272 ,  0.9745779 ,  0.54983754,\n",
       "         0.5009581 ,  0.67822271, -1.21868838, -0.04865655,  0.25312614,\n",
       "        -0.548471  ,  1.19352191,  0.73448446, -1.20570486, -0.28250348,\n",
       "        -2.16149586, -0.58585874,  1.3256591 , -0.24459033,  0.59970888,\n",
       "         0.95632257,  0.14245522,  0.62103024, -1.18571345, -0.55948633,\n",
       "        -0.07372756, -0.88900099, -0.41711574, -0.0844585 ,  1.45690639,\n",
       "         0.98361854,  1.25629571, -0.23913865,  1.61831679, -0.93505202,\n",
       "        -0.85184273, -0.85027482, -1.46095255,  0.5644603 ]),\n",
       " 'best_fitness': 0.04074980302774861,\n",
       " 'fitness_by_iteration': [array([0.62508879, 0.62237056, 0.62516107, ..., 0.04053602, 0.04071087,\n",
       "         0.0407498 ])],\n",
       " 'fitness_evals_history': [array([   0,    2,    4, ..., 9360, 9362, 9364])]}"
      ]
     },
     "execution_count": 16,
     "metadata": {},
     "output_type": "execute_result"
    }
   ],
   "source": [
    "results['Simulated Annealing']['fit_statistics']"
   ]
  },
  {
   "cell_type": "markdown",
   "metadata": {},
   "source": [
    "# Genetic Algorithm"
   ]
  },
  {
   "cell_type": "code",
   "execution_count": null,
   "metadata": {},
   "outputs": [
    {
     "name": "stdout",
     "output_type": "stream",
     "text": [
      "running with elite = 0.0\n"
     ]
    }
   ],
   "source": [
    "np.random.seed(7)\n",
    "clf = mlrose.NeuralNetwork(hidden_nodes=[4], algorithm='genetic_alg', pop_size=500, mutation_prob=0.1, early_stopping=True, max_attempts=50, max_iters=100, elite=0.)\n",
    "time_start = perf_counter()\n",
    "clf.fit(X, y)\n",
    "fit_time = perf_counter() - time_start\n",
    "print(f'fit_time = {fit_time}')"
   ]
  },
  {
   "cell_type": "code",
   "execution_count": null,
   "metadata": {},
   "outputs": [],
   "source": [
    "thisResult = {}\n",
    "thisResult['fit_time'] = fit_time\n",
    "thisResult['clf'] = fit_time\n",
    "thisResult['fit_statistics'] = clf.fit_statistics\n",
    "for case in data:\n",
    "    thisResult[case] = {}\n",
    "    thisResult[case]['yPred'] = clf.predict(data[case]['X'])\n",
    "    thisResult[case]['f1'] = f1_score(data[case]['y'], thisResult[case]['yPred'])\n",
    "    thisResult[case]['cr'] = classification_report(data[case]['y'], thisResult[case]['yPred'], target_names=names)\n",
    "    print(f'case: {case}, f1={thisResult[case][\"f1\"]}')\n",
    "    thisResult[case]['cm'] = plotConfusionMatrix(data[case]['y'], thisResult[case]['yPred'], names, savefig=f'NN_ga_confusion_{case}.png')\n",
    "print(f'Fitness function evaluations = {thisResult[\"fit_statistics\"][\"fitness_evals\"]}')\n",
    "results['Genetic Algorithm'] = thisResult"
   ]
  },
  {
   "cell_type": "code",
   "execution_count": null,
   "metadata": {},
   "outputs": [],
   "source": [
    "print(results['Genetic Algorithm']['train']['cr'])\n",
    "print(results['Genetic Algorithm']['test']['cr'])\n",
    "print(results['Genetic Algorithm']['fit_time'])"
   ]
  },
  {
   "cell_type": "code",
   "execution_count": null,
   "metadata": {},
   "outputs": [],
   "source": [
    "results['Genetic Algorithm']['fit_statistics']"
   ]
  },
  {
   "cell_type": "code",
   "execution_count": null,
   "metadata": {},
   "outputs": [],
   "source": []
  }
 ],
 "metadata": {
  "kernelspec": {
   "display_name": "Python 3",
   "language": "python",
   "name": "python3"
  },
  "language_info": {
   "codemirror_mode": {
    "name": "ipython",
    "version": 3
   },
   "file_extension": ".py",
   "mimetype": "text/x-python",
   "name": "python",
   "nbconvert_exporter": "python",
   "pygments_lexer": "ipython3",
   "version": "3.7.2"
  }
 },
 "nbformat": 4,
 "nbformat_minor": 2
}
